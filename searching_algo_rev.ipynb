{
  "nbformat": 4,
  "nbformat_minor": 0,
  "metadata": {
    "colab": {
      "provenance": [],
      "authorship_tag": "ABX9TyO62agf3vTCGqmEhomVEZm/",
      "include_colab_link": true
    },
    "kernelspec": {
      "name": "python3",
      "display_name": "Python 3"
    },
    "language_info": {
      "name": "python"
    }
  },
  "cells": [
    {
      "cell_type": "markdown",
      "metadata": {
        "id": "view-in-github",
        "colab_type": "text"
      },
      "source": [
        "<a href=\"https://colab.research.google.com/github/Gauravsubodh97/DSA_techallwithPriya/blob/main/searching_algo_rev.ipynb\" target=\"_parent\"><img src=\"https://colab.research.google.com/assets/colab-badge.svg\" alt=\"Open In Colab\"/></a>"
      ]
    },
    {
      "cell_type": "markdown",
      "source": [
        "\n",
        "linear search\n",
        "\n"
      ],
      "metadata": {
        "id": "5A-YxUMwBC7v"
      }
    },
    {
      "cell_type": "code",
      "execution_count": null,
      "metadata": {
        "colab": {
          "base_uri": "https://localhost:8080/"
        },
        "id": "nqK4qlcpAG0A",
        "outputId": "a95962ee-951f-48bb-f10f-40b28a6e9e1c"
      },
      "outputs": [
        {
          "output_type": "stream",
          "name": "stdout",
          "text": [
            "3\n"
          ]
        }
      ],
      "source": [
        "def searching(arr,target):\n",
        "  for i in range(len(arr)):\n",
        "    if arr[i] == target:\n",
        "      return i\n",
        "  return -1\n",
        "\n",
        "# driver code\n",
        "arr = [12,13,17,19,21,35]\n",
        "target =19\n",
        "result =searching(arr,target)\n",
        "print(result)"
      ]
    },
    {
      "cell_type": "markdown",
      "source": [
        "**Binary Search**"
      ],
      "metadata": {
        "id": "J3uFJTwtBH6D"
      }
    },
    {
      "cell_type": "code",
      "source": [
        "def binarySearch(arr,target):\n",
        "  i=0\n",
        "  j =len(arr)\n",
        "  n = len(arr)-1\n",
        "  while(i < n):\n",
        "    mid = i+j//2\n",
        "\n",
        "    if arr[mid] == target:\n",
        "      return mid\n",
        "    elif arr[mid] < target:\n",
        "      i = mid+1\n",
        "    elif arr[mid] > target:\n",
        "      j = mid-1\n",
        "  return mid\n",
        "\n",
        "#driver Code\n",
        "arr = [12,14,15,17,21,23,24,28]\n",
        "target =17\n",
        "result =binarySearch(arr,target)\n",
        "print(result)"
      ],
      "metadata": {
        "colab": {
          "base_uri": "https://localhost:8080/"
        },
        "id": "chxzuWiPAfkm",
        "outputId": "51a87612-7bfb-4793-97d6-54d4957ea484"
      },
      "execution_count": 12,
      "outputs": [
        {
          "output_type": "stream",
          "name": "stdout",
          "text": [
            "3\n"
          ]
        }
      ]
    }
  ]
}