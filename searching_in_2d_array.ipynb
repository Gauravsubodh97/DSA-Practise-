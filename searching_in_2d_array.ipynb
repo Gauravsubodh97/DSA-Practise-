{
  "nbformat": 4,
  "nbformat_minor": 0,
  "metadata": {
    "colab": {
      "provenance": [],
      "authorship_tag": "ABX9TyOSK85fodF2y3RaV5oKZyN8",
      "include_colab_link": true
    },
    "kernelspec": {
      "name": "python3",
      "display_name": "Python 3"
    },
    "language_info": {
      "name": "python"
    }
  },
  "cells": [
    {
      "cell_type": "markdown",
      "metadata": {
        "id": "view-in-github",
        "colab_type": "text"
      },
      "source": [
        "<a href=\"https://colab.research.google.com/github/Gauravsubodh97/DSA_techallwithPriya/blob/main/searching_in_2d_array.ipynb\" target=\"_parent\"><img src=\"https://colab.research.google.com/assets/colab-badge.svg\" alt=\"Open In Colab\"/></a>"
      ]
    },
    {
      "cell_type": "code",
      "execution_count": 14,
      "metadata": {
        "colab": {
          "base_uri": "https://localhost:8080/"
        },
        "id": "SfnwUi87MLzF",
        "outputId": "05eabfb0-73e8-49c5-b45d-7ae5f05a26a3"
      },
      "outputs": [
        {
          "output_type": "stream",
          "name": "stdout",
          "text": [
            "True\n"
          ]
        }
      ],
      "source": [
        "def binarySearch(arr,target):\n",
        "  i=0\n",
        "  m = len(arr)\n",
        "  if m ==0:\n",
        "    return False\n",
        "  n = len(arr[0])\n",
        "  left =0\n",
        "  right = m*n-1\n",
        "\n",
        "  while(left <= right):\n",
        "    mid = left +(right -left) //2\n",
        "    mid_ele = arr[mid//n][mid%n]\n",
        "\n",
        "    if mid_ele == target:\n",
        "      return True\n",
        "    elif mid_ele < target:\n",
        "      left = mid + 1\n",
        "    else:\n",
        "      right = mid -1\n",
        "  return False\n",
        "\n",
        "# driver code\n",
        "arr = [[1,3,7,9],[11,18,19,20],[21,23,26,28]]\n",
        "target =3\n",
        "result = binarySearch(arr,target)\n",
        "print(result)"
      ]
    }
  ]
}