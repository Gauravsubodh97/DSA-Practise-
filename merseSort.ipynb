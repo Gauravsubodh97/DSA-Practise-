{
  "nbformat": 4,
  "nbformat_minor": 0,
  "metadata": {
    "colab": {
      "provenance": [],
      "authorship_tag": "ABX9TyOVaS4piosck18vjuGGR38Z",
      "include_colab_link": true
    },
    "kernelspec": {
      "name": "python3",
      "display_name": "Python 3"
    },
    "language_info": {
      "name": "python"
    }
  },
  "cells": [
    {
      "cell_type": "markdown",
      "metadata": {
        "id": "view-in-github",
        "colab_type": "text"
      },
      "source": [
        "<a href=\"https://colab.research.google.com/github/Gauravsubodh97/DSA-Practise-/blob/main/merseSort.ipynb\" target=\"_parent\"><img src=\"https://colab.research.google.com/assets/colab-badge.svg\" alt=\"Open In Colab\"/></a>"
      ]
    },
    {
      "cell_type": "code",
      "execution_count": null,
      "metadata": {
        "id": "H0JYm1AFNgII"
      },
      "outputs": [],
      "source": [
        "def mergeSort(arr):\n",
        "    if len(arr) > 1:\n",
        "        mid = len(arr) // 2\n",
        "\n",
        "        # Left and right halves\n",
        "        leftsubtree = arr[:mid]\n",
        "        rightsubtree = arr[mid:]\n",
        "\n",
        "        # Recursively sort both halves\n",
        "        mergeSort(leftsubtree)\n",
        "        mergeSort(rightsubtree)\n",
        "\n",
        "        i = j = k = 0\n",
        "\n",
        "        # Merge the sorted halves\n",
        "        while i < len(leftsubtree) and j < len(rightsubtree):\n",
        "            if leftsubtree[i] < rightsubtree[j]:\n",
        "                arr[k] = leftsubtree[i]\n",
        "                i += 1\n",
        "            else:\n",
        "                arr[k] = rightsubtree[j]\n",
        "                j += 1\n",
        "            k += 1\n",
        "\n",
        "        # Copy any remaining elements of leftsubtree\n",
        "        while i < len(leftsubtree):\n",
        "            arr[k] = leftsubtree[i]\n",
        "            i += 1\n",
        "            k += 1\n",
        "\n",
        "        # Copy any remaining elements of rightsubtree\n",
        "        while j < len(rightsubtree):\n",
        "            arr[k] = rightsubtree[j]\n",
        "            j += 1\n",
        "            k += 1\n",
        "\n",
        "\n",
        "# Driver code\n",
        "arr = [80, 42, 45, 73, 12, 34, 56]\n",
        "mergeSort(arr)\n",
        "print(arr)"
      ]
    }
  ]
}