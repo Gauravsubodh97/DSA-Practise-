{
  "nbformat": 4,
  "nbformat_minor": 0,
  "metadata": {
    "colab": {
      "provenance": [],
      "authorship_tag": "ABX9TyNAzO6rXsO1dmb3fs1myzAd",
      "include_colab_link": true
    },
    "kernelspec": {
      "name": "python3",
      "display_name": "Python 3"
    },
    "language_info": {
      "name": "python"
    }
  },
  "cells": [
    {
      "cell_type": "markdown",
      "metadata": {
        "id": "view-in-github",
        "colab_type": "text"
      },
      "source": [
        "<a href=\"https://colab.research.google.com/github/Gauravsubodh97/DSA-Practise-/blob/main/Array_Leaders.ipynb\" target=\"_parent\"><img src=\"https://colab.research.google.com/assets/colab-badge.svg\" alt=\"Open In Colab\"/></a>"
      ]
    },
    {
      "cell_type": "code",
      "execution_count": 2,
      "metadata": {
        "colab": {
          "base_uri": "https://localhost:8080/"
        },
        "id": "7Dw0wfTnXExq",
        "outputId": "042c5655-07a3-4618-f9f6-2202d598edaa"
      },
      "outputs": [
        {
          "output_type": "stream",
          "name": "stdout",
          "text": [
            "[17, 6]\n"
          ]
        }
      ],
      "source": [
        "# problem link - https://www.geeksforgeeks.org/problems/leaders-in-an-array-1587115620/1\n",
        "def leaders(arr):\n",
        "    max_right = float('-inf')\n",
        "    lead = []\n",
        "    for i in range(len(arr)-1,-1,-1):\n",
        "        if arr[i] >= max_right:\n",
        "           lead.append(arr[i])\n",
        "           max_right = arr[i]\n",
        "\n",
        "    lead.reverse()\n",
        "    return lead\n",
        "\n",
        "# driver code\n",
        "arr = [16,17,4,3,5,6]\n",
        "res=leaders(arr)\n",
        "print(res)"
      ]
    },
    {
      "cell_type": "code",
      "source": [],
      "metadata": {
        "id": "YA-m1-N7Xa-W"
      },
      "execution_count": null,
      "outputs": []
    }
  ]
}