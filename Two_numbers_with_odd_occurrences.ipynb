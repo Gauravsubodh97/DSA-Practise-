{
  "nbformat": 4,
  "nbformat_minor": 0,
  "metadata": {
    "colab": {
      "provenance": [],
      "authorship_tag": "ABX9TyOO5OI8qIwFdMHtVb2FVjSp",
      "include_colab_link": true
    },
    "kernelspec": {
      "name": "python3",
      "display_name": "Python 3"
    },
    "language_info": {
      "name": "python"
    }
  },
  "cells": [
    {
      "cell_type": "markdown",
      "metadata": {
        "id": "view-in-github",
        "colab_type": "text"
      },
      "source": [
        "<a href=\"https://colab.research.google.com/github/Gauravsubodh97/DSA-Practise-/blob/main/Two_numbers_with_odd_occurrences.ipynb\" target=\"_parent\"><img src=\"https://colab.research.google.com/assets/colab-badge.svg\" alt=\"Open In Colab\"/></a>"
      ]
    },
    {
      "cell_type": "markdown",
      "source": [
        "**Two numbers with odd occurrences**\n",
        "\n",
        "Given an unsorted array, Arr[] of size N and that contains even number of occurrences for all numbers except two numbers. Find the two numbers in decreasing order which has odd occurrences.\n",
        "\n",
        "Example 1:\n",
        "\n",
        "Input:\n",
        "N = 8\n",
        "Arr = {4, 2, 4, 5, 2, 3, 3, 1}\n",
        "Output: {5, 1}\n",
        "Explanation: 5 and 1 have odd occurrences."
      ],
      "metadata": {
        "id": "AEnDaY6a7qhA"
      }
    },
    {
      "cell_type": "code",
      "execution_count": 1,
      "metadata": {
        "colab": {
          "base_uri": "https://localhost:8080/"
        },
        "id": "757OHyWN7lWq",
        "outputId": "ceef990b-dedb-4a19-e1a3-553eae4d4fa3"
      },
      "outputs": [
        {
          "output_type": "stream",
          "name": "stdout",
          "text": [
            "[5, 1]\n"
          ]
        }
      ],
      "source": [
        "\n",
        "def twoOddNum(arr, n):\n",
        "        # code here\n",
        "\n",
        "    dict1  = {}\n",
        "    res_arr =[]\n",
        "    for num in arr:\n",
        "        if num not in dict1:\n",
        "            dict1[num] =1\n",
        "        else:\n",
        "            dict1[num] +=1\n",
        "\n",
        "    for key,value in dict1.items():\n",
        "        if value %2 != 0:\n",
        "            res_arr.append(key)\n",
        "\n",
        "    res_arr.sort(reverse =True)\n",
        "    return res_arr\n",
        "\n",
        "n = 8\n",
        "arr = [4, 2, 4, 5, 2, 3, 3, 1]\n",
        "res = twoOddNum(arr, n)\n",
        "print(res)"
      ]
    },
    {
      "cell_type": "code",
      "source": [],
      "metadata": {
        "id": "Zabgv5gy8Cxc"
      },
      "execution_count": null,
      "outputs": []
    }
  ]
}