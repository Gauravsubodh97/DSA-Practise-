{
  "nbformat": 4,
  "nbformat_minor": 0,
  "metadata": {
    "colab": {
      "provenance": [],
      "authorship_tag": "ABX9TyNBgmMGHjHtjV5l/wG+avI7",
      "include_colab_link": true
    },
    "kernelspec": {
      "name": "python3",
      "display_name": "Python 3"
    },
    "language_info": {
      "name": "python"
    }
  },
  "cells": [
    {
      "cell_type": "markdown",
      "metadata": {
        "id": "view-in-github",
        "colab_type": "text"
      },
      "source": [
        "<a href=\"https://colab.research.google.com/github/Gauravsubodh97/DSA-Practise-/blob/main/AES_encryption_decription.ipynb\" target=\"_parent\"><img src=\"https://colab.research.google.com/assets/colab-badge.svg\" alt=\"Open In Colab\"/></a>"
      ]
    },
    {
      "cell_type": "code",
      "execution_count": null,
      "metadata": {
        "id": "p1p73KI-nmi7"
      },
      "outputs": [],
      "source": [
        "# AES - advance ecription standard\n",
        "#In simple term AES converts plain text to encripted password.\n"
      ]
    },
    {
      "cell_type": "code",
      "source": [
        "pip install loguru"
      ],
      "metadata": {
        "colab": {
          "base_uri": "https://localhost:8080/"
        },
        "id": "fuAo9bO2qBFc",
        "outputId": "1875ca0d-6ebd-4488-e868-15f917c882a8"
      },
      "execution_count": 9,
      "outputs": [
        {
          "output_type": "stream",
          "name": "stdout",
          "text": [
            "Collecting loguru\n",
            "  Downloading loguru-0.7.3-py3-none-any.whl.metadata (22 kB)\n",
            "Downloading loguru-0.7.3-py3-none-any.whl (61 kB)\n",
            "\u001b[?25l   \u001b[90m━━━━━━━━━━━━━━━━━━━━━━━━━━━━━━━━━━━━━━━━\u001b[0m \u001b[32m0.0/61.6 kB\u001b[0m \u001b[31m?\u001b[0m eta \u001b[36m-:--:--\u001b[0m\r\u001b[2K   \u001b[90m━━━━━━━━━━━━━━━━━━━━━━━━━━━━━━━━━━━━━━━━\u001b[0m \u001b[32m61.6/61.6 kB\u001b[0m \u001b[31m5.3 MB/s\u001b[0m eta \u001b[36m0:00:00\u001b[0m\n",
            "\u001b[?25hInstalling collected packages: loguru\n",
            "Successfully installed loguru-0.7.3\n"
          ]
        }
      ]
    },
    {
      "cell_type": "code",
      "source": [
        "import base64\n",
        "from Cryptodome.Cipher import AES\n",
        "from Crypto.Cipher import AES\n",
        "from Cryptodome.Protocol.KDF import PBKDF2\n",
        "import os, sys\n",
        "from loguru import logger\n",
        "\n",
        "try:\n",
        "    key = \"key1\"\n",
        "    iv = \"my_username_pass\"\n",
        "    salt = \"salt\"\n",
        "\n",
        "    if not (key and iv and salt):\n",
        "        raise Exception(F\"Error while fetching details for key/iv/salt\")\n",
        "except Exception as e:\n",
        "    logger.error(\"Error occurred. Details: %s\", e)\n",
        "    sys.exit(0)\n",
        "\n",
        "BS = 16\n",
        "pad = lambda s: bytes(s + (BS - len(s) % BS) * chr(BS - len(s) % BS), 'utf-8')\n",
        "unpad = lambda s: s[0:-ord(s[-1:])]\n",
        "\n",
        "def get_private_key():\n",
        "    Salt = salt.encode('utf-8')\n",
        "    kdf = PBKDF2(key, Salt, 64, 1000)\n",
        "    key32 = kdf[:32]\n",
        "    return key32\n",
        "\n",
        "\n",
        "def encrypt(raw):\n",
        "    raw = pad(raw)\n",
        "    cipher = AES.new(get_private_key(), AES.MODE_CBC, iv.encode('utf-8'))\n",
        "    return base64.b64encode(cipher.encrypt(raw))\n",
        "\n",
        "\n",
        "def decrypt(enc):\n",
        "    cipher = AES.new(get_private_key(), AES.MODE_CBC, iv.encode('utf-8'))\n",
        "    return unpad(cipher.decrypt(base64.b64decode(enc))).decode('utf8')\n",
        "\n",
        "print(encrypt(\"manish\"))\n",
        "print(decrypt(\"U1AMRIQSTYosVJCmmqUHnA==\"))"
      ],
      "metadata": {
        "colab": {
          "base_uri": "https://localhost:8080/"
        },
        "id": "57NmQoyWpJH_",
        "outputId": "9e8a764e-bc91-4994-8e10-2a6915bcd994"
      },
      "execution_count": 10,
      "outputs": [
        {
          "output_type": "stream",
          "name": "stdout",
          "text": [
            "b'U1AMRIQSTYosVJCmmqUHnA=='\n",
            "manish\n"
          ]
        }
      ]
    },
    {
      "cell_type": "code",
      "source": [],
      "metadata": {
        "id": "_0Z0vuitqSV_"
      },
      "execution_count": null,
      "outputs": []
    }
  ]
}