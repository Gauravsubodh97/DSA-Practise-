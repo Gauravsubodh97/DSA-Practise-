{
  "nbformat": 4,
  "nbformat_minor": 0,
  "metadata": {
    "colab": {
      "provenance": [],
      "authorship_tag": "ABX9TyPaAgz/TpAwz+xoYbGfQsGV",
      "include_colab_link": true
    },
    "kernelspec": {
      "name": "python3",
      "display_name": "Python 3"
    },
    "language_info": {
      "name": "python"
    }
  },
  "cells": [
    {
      "cell_type": "markdown",
      "metadata": {
        "id": "view-in-github",
        "colab_type": "text"
      },
      "source": [
        "<a href=\"https://colab.research.google.com/github/Gauravsubodh97/DSA-Practise-/blob/main/binarySortRecurrsion.ipynb\" target=\"_parent\"><img src=\"https://colab.research.google.com/assets/colab-badge.svg\" alt=\"Open In Colab\"/></a>"
      ]
    },
    {
      "cell_type": "code",
      "execution_count": null,
      "metadata": {
        "id": "rDChaZJVN5x1"
      },
      "outputs": [],
      "source": [
        "def binarySearch(arr, i, j, k):\n",
        "    if j >= i:\n",
        "        mid = i + (j - i) // 2\n",
        "\n",
        "        if arr[mid] == k:\n",
        "            return mid\n",
        "        elif arr[mid] > k:\n",
        "            return binarySearch(arr, i, mid - 1, k)\n",
        "        elif arr[mid] < k:\n",
        "            return binarySearch(arr, mid + 1, j, k)\n",
        "    else:\n",
        "        return -1\n",
        "\n",
        "\n",
        "# driver code\n",
        "arr = [3, 4, 5, 6, 7, 8, 9, 11, 14, 16, 18, 19, 191, 201, 401, 444]\n",
        "key = 8\n",
        "result = binarySearch(arr, 0, len(arr) - 1, key)\n",
        "print(result)\n"
      ]
    }
  ]
}