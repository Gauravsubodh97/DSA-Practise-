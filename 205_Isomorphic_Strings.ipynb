{
  "nbformat": 4,
  "nbformat_minor": 0,
  "metadata": {
    "colab": {
      "provenance": [],
      "authorship_tag": "ABX9TyPuVMLIxMBkjV93ClcvHPir",
      "include_colab_link": true
    },
    "kernelspec": {
      "name": "python3",
      "display_name": "Python 3"
    },
    "language_info": {
      "name": "python"
    }
  },
  "cells": [
    {
      "cell_type": "markdown",
      "metadata": {
        "id": "view-in-github",
        "colab_type": "text"
      },
      "source": [
        "<a href=\"https://colab.research.google.com/github/Gauravsubodh97/DSA-Practise-/blob/main/205_Isomorphic_Strings.ipynb\" target=\"_parent\"><img src=\"https://colab.research.google.com/assets/colab-badge.svg\" alt=\"Open In Colab\"/></a>"
      ]
    },
    {
      "cell_type": "code",
      "execution_count": null,
      "metadata": {
        "id": "5rv3TMBulZYW"
      },
      "outputs": [],
      "source": [
        "def isIsomorphic(s, t):\n",
        "    dict_s = {}\n",
        "    dict_t = {}\n",
        "\n",
        "    for i in range(len(s)):\n",
        "        if s[i] not in dict_s:\n",
        "            dict_s[s[i]] = i\n",
        "\n",
        "        if t[i] not in dict_t:\n",
        "            dict_t[t[i]] = i\n",
        "\n",
        "        if dict_s[s[i]] != dict_t[t[i]]:\n",
        "                return False\n",
        "\n",
        "    return True\n",
        "\n",
        "s = \"egg\"\n",
        "t = \"add\"\n",
        "res =isIsomorphic(s, t)\n",
        "print(res)"
      ]
    }
  ]
}