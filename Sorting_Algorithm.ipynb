{
  "nbformat": 4,
  "nbformat_minor": 0,
  "metadata": {
    "colab": {
      "provenance": [],
      "authorship_tag": "ABX9TyM1TZmCj+peFjz7r4eW+Oxk",
      "include_colab_link": true
    },
    "kernelspec": {
      "name": "python3",
      "display_name": "Python 3"
    },
    "language_info": {
      "name": "python"
    }
  },
  "cells": [
    {
      "cell_type": "markdown",
      "metadata": {
        "id": "view-in-github",
        "colab_type": "text"
      },
      "source": [
        "<a href=\"https://colab.research.google.com/github/Gauravsubodh97/DSA-Practise-/blob/main/Sorting_Algorithm.ipynb\" target=\"_parent\"><img src=\"https://colab.research.google.com/assets/colab-badge.svg\" alt=\"Open In Colab\"/></a>"
      ]
    },
    {
      "cell_type": "markdown",
      "source": [
        "Selection Sort O(n2)"
      ],
      "metadata": {
        "id": "gx8Ysxlwd29g"
      }
    },
    {
      "cell_type": "code",
      "execution_count": 3,
      "metadata": {
        "colab": {
          "base_uri": "https://localhost:8080/"
        },
        "id": "aKRU6mZucheU",
        "outputId": "11403ffc-03e1-4dae-cce0-496e49c709ce"
      },
      "outputs": [
        {
          "output_type": "stream",
          "name": "stdout",
          "text": [
            "Selection Sort:- [1, 5, 8, 11, 12, 17, 23, 42, 78]\n"
          ]
        }
      ],
      "source": [
        "def selectionSort(arr):\n",
        "  n= len(arr)\n",
        "\n",
        "  for i in range(n):\n",
        "    min_idx = i\n",
        "    for j in range(i+1,n):\n",
        "      if arr[j] < arr[min_idx]:\n",
        "        min_idx = j\n",
        "    arr[i],arr[min_idx] = arr[min_idx],arr[i]\n",
        "  return arr\n",
        "\n",
        "\n",
        "#driver code\n",
        "arr = [78,23,42,1,5,17,12,11,8]\n",
        "result = selectionSort(arr)\n",
        "print(\"Selection Sort:-\",result)"
      ]
    }
  ]
}