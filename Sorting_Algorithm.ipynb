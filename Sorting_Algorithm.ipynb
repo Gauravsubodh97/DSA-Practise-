{
  "nbformat": 4,
  "nbformat_minor": 0,
  "metadata": {
    "colab": {
      "provenance": [],
      "authorship_tag": "ABX9TyPs2gpkKzUddB4M9oFQlnQp",
      "include_colab_link": true
    },
    "kernelspec": {
      "name": "python3",
      "display_name": "Python 3"
    },
    "language_info": {
      "name": "python"
    }
  },
  "cells": [
    {
      "cell_type": "markdown",
      "metadata": {
        "id": "view-in-github",
        "colab_type": "text"
      },
      "source": [
        "<a href=\"https://colab.research.google.com/github/Gauravsubodh97/DSA-Practise-/blob/main/Sorting_Algorithm.ipynb\" target=\"_parent\"><img src=\"https://colab.research.google.com/assets/colab-badge.svg\" alt=\"Open In Colab\"/></a>"
      ]
    },
    {
      "cell_type": "markdown",
      "source": [
        "**Selection Sort O(n2)**"
      ],
      "metadata": {
        "id": "gx8Ysxlwd29g"
      }
    },
    {
      "cell_type": "code",
      "execution_count": null,
      "metadata": {
        "colab": {
          "base_uri": "https://localhost:8080/"
        },
        "id": "aKRU6mZucheU",
        "outputId": "11403ffc-03e1-4dae-cce0-496e49c709ce"
      },
      "outputs": [
        {
          "output_type": "stream",
          "name": "stdout",
          "text": [
            "Selection Sort:- [1, 5, 8, 11, 12, 17, 23, 42, 78]\n"
          ]
        }
      ],
      "source": [
        "def selectionSort(arr):\n",
        "  n= len(arr)\n",
        "\n",
        "  for i in range(n):\n",
        "    min_idx = i\n",
        "    for j in range(i+1,n):\n",
        "      if arr[j] < arr[min_idx]:\n",
        "        min_idx = j\n",
        "    arr[i],arr[min_idx] = arr[min_idx],arr[i]\n",
        "  return arr\n",
        "\n",
        "\n",
        "#driver code\n",
        "arr = [78,23,42,1,5,17,12,11,8]\n",
        "result = selectionSort(arr)\n",
        "print(\"Selection Sort:-\",result)"
      ]
    },
    {
      "cell_type": "markdown",
      "source": [
        "**Bubble Sort (Sinking sort)**"
      ],
      "metadata": {
        "id": "r8VSYJiVgf7A"
      }
    },
    {
      "cell_type": "code",
      "source": [
        "def bubbleSort(arr):\n",
        "  n = len(arr)\n",
        "\n",
        "  for i in range(n-1):\n",
        "    for j in range(n-1):\n",
        "      if arr[j] >arr[j+1]:\n",
        "        arr[j],arr[j+1] = arr[j+1],arr[j]\n",
        "  return arr\n",
        "# driver code\n",
        "arr=[43,12,1,3,51,18,19]\n",
        "result = bubbleSort(arr)\n",
        "print('Sorted array is :-',result)"
      ],
      "metadata": {
        "colab": {
          "base_uri": "https://localhost:8080/"
        },
        "id": "BXs__34XglRo",
        "outputId": "0b968e73-d5eb-4764-e328-09a3a3f571a2"
      },
      "execution_count": null,
      "outputs": [
        {
          "output_type": "stream",
          "name": "stdout",
          "text": [
            "Sorted array is :- [1, 3, 12, 18, 19, 43, 51]\n"
          ]
        }
      ]
    },
    {
      "cell_type": "code",
      "source": [],
      "metadata": {
        "id": "LiafZ0eQg3Gy"
      },
      "execution_count": null,
      "outputs": []
    },
    {
      "cell_type": "markdown",
      "source": [
        "**Merge Sort**"
      ],
      "metadata": {
        "id": "z7CpQFMK5IMo"
      }
    },
    {
      "cell_type": "code",
      "source": [
        "def mergeSort(arr):\n",
        "  if len(arr) > 1:\n",
        "    mid  = len(arr)//2\n",
        "    left_lst = arr[:mid]\n",
        "    right_lst = arr[mid:]\n",
        "    mergeSort(left_lst)\n",
        "    mergeSort(right_lst)\n",
        "    i = 0\n",
        "    j = 0\n",
        "    k =0\n",
        "\n",
        "    while(i < len(left_lst) and j < len(right_lst)):\n",
        "      if left_lst[i] < right_lst[j]:\n",
        "        arr[k] = left_lst[i]\n",
        "        i+=1\n",
        "        k+=1\n",
        "      else:\n",
        "        arr[k] = right_lst[j]\n",
        "        j+=1\n",
        "        k+=1\n",
        "    while i < len(left_lst):\n",
        "      arr[k] = left_lst[i]\n",
        "      i+=1\n",
        "      k+=1\n",
        "    while j < len(right_lst):\n",
        "      arr[k] =right_lst[j]\n",
        "      j+=1\n",
        "      k+=1\n",
        "  return arr\n",
        "\n",
        "#driver code\n",
        "num = int(input('how many elements you want :- '))\n",
        "arr = [int(input()) for i in range(num)]\n",
        "result = mergeSort(arr)\n",
        "print(result)"
      ],
      "metadata": {
        "colab": {
          "base_uri": "https://localhost:8080/"
        },
        "id": "LJuTtRFl5Lpv",
        "outputId": "3ba2fe7d-d41b-4060-d669-a40e3f598864"
      },
      "execution_count": 9,
      "outputs": [
        {
          "output_type": "stream",
          "name": "stdout",
          "text": [
            "how many elements you want :- 5\n",
            "31\n",
            "13\n",
            "5\n",
            "1\n",
            "16\n",
            "[1, 5, 13, 16, 31]\n"
          ]
        }
      ]
    }
  ]
}